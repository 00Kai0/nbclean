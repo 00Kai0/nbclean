{
 "cells": [
  {
   "cell_type": "code",
   "execution_count": 1,
   "metadata": {
    "collapsed": true
   },
   "outputs": [],
   "source": [
    "import nbclean as nbc"
   ]
  },
  {
   "cell_type": "markdown",
   "metadata": {},
   "source": [
    "# Create student homework notebooks\n",
    "It is often useful to write notebooks with all of the information related to their content, and then strip some of this information away before giving it to students. For example, perhaps you want to write yourself some notes for a live notebook demo, or perhaps you've written in answers that should be stripped before sending the notebook to students.\n",
    "\n",
    "## Creating student versions with answers removed\n",
    "Here we'll create a notebook we might use for a homework. In `test_notebook`, we've asked the students to answer a question. Using the `NotebookCleaner` class, we can designate certain cells as \"solution\" cells. That way we can clear the answers for those cells and generate a version of the notebook suitable for sending to students.\n",
    "\n",
    "This works for both **code** cells, as well as **markdown** cells."
   ]
  },
  {
   "cell_type": "code",
   "execution_count": 2,
   "metadata": {
    "collapsed": true
   },
   "outputs": [],
   "source": [
    "# Here are paths to our notebooks\n",
    "path_original_notebook = './test_notebooks/test_notebook.ipynb'\n",
    "path_save = './test_notebooks/'"
   ]
  },
  {
   "cell_type": "code",
   "execution_count": 3,
   "metadata": {},
   "outputs": [
    {
     "data": {
      "text/plain": [
       "Number of preprocessors: 5\n",
       "---\n",
       "<ClearCells> Tag: hide_output\n",
       "<ClearCells> Tag: hide_content\n",
       "<ClearCells> Tag: hide_stderr\n",
       "<nbclean.preprocessors.RemoveCells object at 0x105c99278>\n",
       "<nbgrader.preprocessors.clearsolutions.ClearSolutions object at 0x105c992b0>"
      ]
     },
     "execution_count": 3,
     "metadata": {},
     "output_type": "execute_result"
    }
   ],
   "source": [
    "# Clear different parts of the notebook cells based on tags\n",
    "ntbk = nbc.NotebookCleaner(path_original_notebook)\n",
    "ntbk.clear(output=True, tag='hide_output')\n",
    "ntbk.clear(output=False, content=True, tag='hide_content')\n",
    "ntbk.clear(output=False, stderr=True, tag='hide_stderr')\n",
    "\n",
    "# Removing entire cells\n",
    "ntbk.remove_cells(tag='remove')\n",
    "\n",
    "# Replacing text\n",
    "text_replace_begin = '### SOLUTION BEGIN'\n",
    "text_replace_end = '### SOLUTION END'\n",
    "ntbk.replace_text(text_replace_begin, text_replace_end)"
   ]
  },
  {
   "cell_type": "code",
   "execution_count": 4,
   "metadata": {},
   "outputs": [
    {
     "name": "stdout",
     "output_type": "stream",
     "text": [
      "Saving to ./test_notebooks/test_notebook_saved.ipynb\n"
     ]
    }
   ],
   "source": [
    "# Now we'll save the notebook to inspect\n",
    "ntbk.save(path_save + 'test_notebook_saved.ipynb')"
   ]
  }
 ],
 "metadata": {
  "hide_input": false,
  "kernelspec": {
   "display_name": "Python 3",
   "language": "python",
   "name": "python3"
  },
  "language_info": {
   "codemirror_mode": {
    "name": "ipython",
    "version": 3
   },
   "file_extension": ".py",
   "mimetype": "text/x-python",
   "name": "python",
   "nbconvert_exporter": "python",
   "pygments_lexer": "ipython3",
   "version": "3.6.0"
  },
  "toc": {
   "toc_cell": false,
   "toc_number_sections": false,
   "toc_threshold": "2",
   "toc_window_display": false
  }
 },
 "nbformat": 4,
 "nbformat_minor": 1
}
